{
 "cells": [
  {
   "cell_type": "code",
   "execution_count": 29,
   "metadata": {},
   "outputs": [],
   "source": [
    "import numpy as np\n",
    "import heapq \n",
    "from collections import namedtuple\n",
    "import random\n",
    "from random import choice\n",
    "from tqdm import tqdm\n",
    "\n",
    "np.random.seed(1)\n",
    "random.seed(1)\n",
    "\n",
    "action = namedtuple('Action', ['pos1', 'pos2'])\n",
    " \n",
    "# Define puzzle dimension\n",
    "PUZZLE_DIM = 4\n",
    "RANDOMIZE_STEPS = 100_000"
   ]
  },
  {
   "cell_type": "code",
   "execution_count": 30,
   "metadata": {},
   "outputs": [],
   "source": [
    "def available_actions(state: np.ndarray) -> list['Action']:\n",
    "    x, y = [int(_[0]) for _ in np.where(state == 0)]\n",
    "    actions = list()\n",
    "    if x > 0:\n",
    "        actions.append(action((x, y), (x - 1, y)))\n",
    "    if x < PUZZLE_DIM - 1:\n",
    "        actions.append(action((x, y), (x + 1, y)))\n",
    "    if y > 0:\n",
    "        actions.append(action((x, y), (x, y - 1)))\n",
    "    if y < PUZZLE_DIM - 1:\n",
    "        actions.append(action((x, y), (x, y + 1)))\n",
    "    return actions\n",
    "\n",
    "\n",
    "\n",
    "def do_action(state: np.ndarray, action) -> np.ndarray:\n",
    "    new_state = state.copy()\n",
    "    new_state[action.pos1], new_state[action.pos2] = new_state[action.pos2], new_state[action.pos1]\n",
    "    return new_state\n",
    "\n",
    "\n",
    "\n",
    "def manhattan_distance(state: np.ndarray, goal: np.ndarray) -> int: \n",
    "    distance = 0\n",
    "    for x in range(PUZZLE_DIM):\n",
    "        for y in range(PUZZLE_DIM):\n",
    "            value = state[x, y]\n",
    "            if value != 0:   \n",
    "                goal_x, goal_y = divmod(value - 1, PUZZLE_DIM)  \n",
    "                distance += abs(x - goal_x) + abs(y - goal_y)   \n",
    "    return distance"
   ]
  },
  {
   "cell_type": "code",
   "execution_count": 31,
   "metadata": {},
   "outputs": [],
   "source": [
    " \n",
    "\n",
    "def a_star(start_state: np.ndarray, target_state: np.ndarray):\n",
    "    open_list = []\n",
    "    explored_states = set()\n",
    "    parent_map = {}\n",
    "    state_cost = {}\n",
    "    \n",
    "    # Convert states to tuples\n",
    "    start_state_tuple = tuple(start_state.flatten())\n",
    "    target_state_tuple = tuple(target_state.flatten())\n",
    "    \n",
    "    # Heuristic cost (Manhattan distance)\n",
    "    initial_heuristic = manhattan_distance(start_state, target_state)\n",
    "    state_cost[start_state_tuple] = 0\n",
    "    \n",
    "    # Add the start state to the open list\n",
    "    heapq.heappush(open_list, (initial_heuristic, start_state_tuple))\n",
    "    explored_states.add(start_state_tuple)\n",
    "    \n",
    "    iteration_count = 0  \n",
    "    \n",
    "    while open_list:\n",
    "        iteration_count += 1\n",
    "\n",
    "        # Get the state with the lowest f value\n",
    "        _, current_state = heapq.heappop(open_list)\n",
    "        \n",
    "        # Goal check\n",
    "        if current_state == target_state_tuple:\n",
    "            solution_path = []\n",
    "            state = current_state\n",
    "            while state != start_state_tuple:\n",
    "                solution_path.append(state)\n",
    "                state = parent_map[state]\n",
    "            solution_path.reverse()\n",
    "            return solution_path, state_cost[current_state], iteration_count\n",
    "        \n",
    "        explored_states.add(current_state)\n",
    "        \n",
    "        reshaped_state = np.array(current_state).reshape((PUZZLE_DIM, PUZZLE_DIM))\n",
    "        for move in available_actions(reshaped_state):\n",
    "            next_state = do_action(reshaped_state, move)\n",
    "            next_state_tuple = tuple(next_state.flatten())\n",
    "            \n",
    "            if not next_state_tuple in explored_states:\n",
    "                new_g_value = state_cost[current_state] + 1\n",
    "                new_h_value = manhattan_distance(next_state, target_state)\n",
    "                new_f_value = new_g_value + new_h_value\n",
    "                \n",
    "                # Update if it's a better path\n",
    "                if next_state_tuple not in state_cost or new_g_value < state_cost[next_state_tuple]:\n",
    "                    state_cost[next_state_tuple] = new_g_value\n",
    "                    heapq.heappush(open_list, (new_f_value, next_state_tuple))\n",
    "                    parent_map[next_state_tuple] = current_state\n",
    "    \n",
    "    print(\"No found\")\n",
    "    return None\n",
    "\n"
   ]
  },
  {
   "cell_type": "code",
   "execution_count": 32,
   "metadata": {},
   "outputs": [
    {
     "name": "stderr",
     "output_type": "stream",
     "text": [
      "Randomizing: 100%|██████████| 100000/100000 [00:00<00:00, 306869.46it/s]\n"
     ]
    },
    {
     "name": "stdout",
     "output_type": "stream",
     "text": [
      "Initial state:\n",
      "[[10  8  5  9]\n",
      " [11  7  3  0]\n",
      " [13  2 12 15]\n",
      " [ 6 14  1  4]]\n",
      "number of iterations: 7128359\n",
      "number of steps to solve puzzle: 54\n"
     ]
    }
   ],
   "source": [
    "# Randomize initial state\n",
    "goal_state = np.array([i for i in range(1, PUZZLE_DIM**2)] + [0]).reshape((PUZZLE_DIM, PUZZLE_DIM))\n",
    "initial_state = goal_state.copy()\n",
    "for _ in tqdm(range(RANDOMIZE_STEPS), desc='Randomizing'):\n",
    "    initial_state = do_action(initial_state, choice(available_actions(initial_state)))\n",
    " \n",
    "# Solve the puzzle\n",
    "print(\"Initial state:\")\n",
    "print(initial_state)\n",
    "solution_path, steps, iterations = a_star(initial_state, goal_state)\n",
    "\n",
    "\n",
    "print(f\"number of iterations: {iterations}\")\n",
    "print(f\"number of steps to solve puzzle: {steps}\")\n"
   ]
  }
 ],
 "metadata": {
  "kernelspec": {
   "display_name": "Python 3",
   "language": "python",
   "name": "python3"
  },
  "language_info": {
   "codemirror_mode": {
    "name": "ipython",
    "version": 3
   },
   "file_extension": ".py",
   "mimetype": "text/x-python",
   "name": "python",
   "nbconvert_exporter": "python",
   "pygments_lexer": "ipython3",
   "version": "3.11.9"
  }
 },
 "nbformat": 4,
 "nbformat_minor": 2
}
